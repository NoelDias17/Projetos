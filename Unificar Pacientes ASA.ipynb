{
 "cells": [
  {
   "cell_type": "code",
   "execution_count": 1,
   "id": "13269338",
   "metadata": {
    "scrolled": false
   },
   "outputs": [
    {
     "name": "stderr",
     "output_type": "stream",
     "text": [
      "C:\\Users\\ADMINI~1\\AppData\\Local\\Temp/ipykernel_8340/536126697.py:24: SettingWithCopyWarning: \n",
      "A value is trying to be set on a copy of a slice from a DataFrame.\n",
      "Try using .loc[row_indexer,col_indexer] = value instead\n",
      "\n",
      "See the caveats in the documentation: https://pandas.pydata.org/pandas-docs/stable/user_guide/indexing.html#returning-a-view-versus-a-copy\n",
      "  unificar_par['cod paciente 2'] = lista_pacientes_impar\n"
     ]
    },
    {
     "data": {
      "text/html": [
       "<div>\n",
       "<style scoped>\n",
       "    .dataframe tbody tr th:only-of-type {\n",
       "        vertical-align: middle;\n",
       "    }\n",
       "\n",
       "    .dataframe tbody tr th {\n",
       "        vertical-align: top;\n",
       "    }\n",
       "\n",
       "    .dataframe thead th {\n",
       "        text-align: right;\n",
       "    }\n",
       "</style>\n",
       "<table border=\"1\" class=\"dataframe\">\n",
       "  <thead>\n",
       "    <tr style=\"text-align: right;\">\n",
       "      <th></th>\n",
       "      <th>nome paciente</th>\n",
       "      <th>origem</th>\n",
       "      <th>destino</th>\n",
       "    </tr>\n",
       "  </thead>\n",
       "  <tbody>\n",
       "    <tr>\n",
       "      <th>0</th>\n",
       "      <td>Fernanda Costa Fernandes da Silva</td>\n",
       "      <td>193063</td>\n",
       "      <td>149638</td>\n",
       "    </tr>\n",
       "    <tr>\n",
       "      <th>1</th>\n",
       "      <td>Rodrigo Poppolino Martins</td>\n",
       "      <td>193083</td>\n",
       "      <td>163666</td>\n",
       "    </tr>\n",
       "  </tbody>\n",
       "</table>\n",
       "</div>"
      ],
      "text/plain": [
       "                       nome paciente  origem destino\n",
       "0  Fernanda Costa Fernandes da Silva  193063  149638\n",
       "1         Rodrigo Poppolino Martins   193083  163666"
      ]
     },
     "metadata": {},
     "output_type": "display_data"
    },
    {
     "name": "stderr",
     "output_type": "stream",
     "text": [
      "C:\\Users\\ADMINI~1\\AppData\\Local\\Temp/ipykernel_8340/536126697.py:56: FutureWarning: As the xlwt package is no longer maintained, the xlwt engine will be removed in a future version of pandas. This is the only engine in pandas that supports writing in the xls format. Install openpyxl and write to an xlsx file instead. You can set the option io.excel.xls.writer to 'xlwt' to silence this warning. While this option is deprecated and will also raise a warning, it can be globally set and the warning suppressed.\n",
      "  unificar.to_excel(r'C:\\Users\\Administrator\\Desktop\\unificarpronta.xls')\n"
     ]
    },
    {
     "name": "stdout",
     "output_type": "stream",
     "text": [
      "Fernanda Costa Fernandes da Silva foi unificado(a)!\n",
      "Rodrigo Poppolino Martins  foi unificado(a)!\n"
     ]
    },
    {
     "data": {
      "text/plain": [
       "'OK'"
      ]
     },
     "execution_count": 1,
     "metadata": {},
     "output_type": "execute_result"
    }
   ],
   "source": [
    "import pyautogui\n",
    "import time\n",
    "import pandas as pd\n",
    "\n",
    "# lembrar de pegar relatorios de pacientes duplicados e colocar na mesma pasta da automação com o nome 'unificar.xls'\n",
    "\n",
    "unificar = pd.read_excel('unificar.xls')\n",
    "unificar = unificar[['Gerson Schorr Clinica de Alergia e Dermatologia','Unnamed: 1']]\n",
    "unificar.columns = ['cod paciente','nome paciente']\n",
    "unificar = unificar.dropna()\n",
    "unificar = unificar[unificar['nome paciente'] != 'Paciente']\n",
    "unificar = unificar.reset_index(drop=True)\n",
    "\n",
    "unificar_impar = unificar[unificar.index%2 != 0]\n",
    "unificar_par = unificar[unificar.index%2 == 0]\n",
    "\n",
    "lista_pacientes_impar = list(unificar_impar['cod paciente'])\n",
    "\n",
    "unificar_par['cod paciente 2'] = lista_pacientes_impar\n",
    "\n",
    "unificar_par = unificar_par[['nome paciente','cod paciente','cod paciente 2']]\n",
    "\n",
    "unificar_par['cod paciente'] = unificar_par['cod paciente'].astype(int)\n",
    "\n",
    "unificar = unificar_par.reset_index(drop=True)\n",
    "\n",
    "lista_origem = []\n",
    "lista_destino = []\n",
    "\n",
    "for i, cod_paciente in enumerate(unificar['cod paciente']):\n",
    "    cod_paciente2 = unificar.loc[i, 'cod paciente 2']\n",
    "    if cod_paciente > cod_paciente2:\n",
    "        lista_origem.append(cod_paciente)\n",
    "        lista_destino.append(cod_paciente2)\n",
    "    else:\n",
    "        lista_destino.append(cod_paciente)\n",
    "        lista_origem.append(cod_paciente2)\n",
    "\n",
    "unificar['origem'] = lista_origem\n",
    "unificar['destino'] = lista_destino\n",
    "unificar = unificar[['nome paciente','origem','destino']]\n",
    "\n",
    "# destino = numero menor\n",
    "# origem = numero maior\n",
    "\n",
    "unificar['origem'] = unificar['origem'].astype(str)\n",
    "unificar['destino'] = unificar['destino'].astype(str)\n",
    "\n",
    "display(unificar)\n",
    "\n",
    "unificar.to_excel(r'C:\\Users\\Administrator\\Desktop\\unificarpronta.xls')\n",
    "\n",
    "pyautogui.alert('favor deixar asa de fundo')\n",
    "time.sleep(3)\n",
    "\n",
    "pyautogui.PAUSE = 0.3\n",
    "\n",
    "for i, numero_origem in enumerate(unificar['origem']):\n",
    "    numero_destino = unificar.loc[i, 'destino']\n",
    "    nome_paciente = unificar.loc[i, 'nome paciente']\n",
    "    \n",
    "    # So falta construir automação de click até a unificação\n",
    "    pyautogui.click(x=50, y=78)\n",
    "    pyautogui.click(x=421, y=149)\n",
    "    pyautogui.click(x=454, y=213)\n",
    "    pyautogui.click(x=582, y=207)\n",
    "    pyautogui.click(x=729, y=208)\n",
    "    time.sleep(2)   \n",
    "    pyautogui.write(numero_origem)\n",
    "    pyautogui.press('TAB')\n",
    "    pyautogui.write(numero_destino)\n",
    "    pyautogui.press('TAB')\n",
    "    pyautogui.press('ENTER')\n",
    "    pyautogui.hotkey('alt','s')\n",
    "    time.sleep(1)\n",
    "    pyautogui.hotkey('alt','s')\n",
    "    time.sleep(3)\n",
    "    pyautogui.hotkey('alt','o')\n",
    "    time.sleep(2)\n",
    "    print(f'{nome_paciente} foi unificado(a)!')\n",
    "    \n",
    "pyautogui.alert('Unificação Concluida!')    \n"
   ]
  }
 ],
 "metadata": {
  "kernelspec": {
   "display_name": "Python 3 (ipykernel)",
   "language": "python",
   "name": "python3"
  },
  "language_info": {
   "codemirror_mode": {
    "name": "ipython",
    "version": 3
   },
   "file_extension": ".py",
   "mimetype": "text/x-python",
   "name": "python",
   "nbconvert_exporter": "python",
   "pygments_lexer": "ipython3",
   "version": "3.9.13"
  }
 },
 "nbformat": 4,
 "nbformat_minor": 5
}
